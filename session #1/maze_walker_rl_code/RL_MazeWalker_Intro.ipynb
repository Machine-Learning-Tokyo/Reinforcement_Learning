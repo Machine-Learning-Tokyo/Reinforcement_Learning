{
 "cells": [
  {
   "cell_type": "markdown",
   "metadata": {},
   "source": [
    "<a href=\"https://colab.research.google.com/github/Machine-Learning-Tokyo/Reinforcement_Learning/blob/master/session%20%231/maze_walker_rl_code/RL_MazeWalker_Intro.ipynb\" target=\"_parent\"><img src=\"https://colab.research.google.com/assets/colab-badge.svg\" alt=\"Open In Colab\"/></a>"
   ]
  },
  {
   "cell_type": "markdown",
   "metadata": {},
   "source": [
    "## Machine Learning Tokyo ##\n",
    "### Introduction to Reinforcement Learning - Maze Walker ###\n",
    "### Session - 1 ###\n",
    "\n",
    "<h4 style=\"color:red\">Introduction</h4>\n",
    "Reinforcement learning is a concept, where in **Agent** learns to take **Action** based on the **State** of the environment. The objective of the agent to maximize the long-term **rewards** that it gets by taking actions, and observing the outcomes as a feedback from the environment."
   ]
  },
  {
   "cell_type": "markdown",
   "metadata": {},
   "source": [
    "We have already seen some basic equations for RL. For ref they are mentioned below"
   ]
  },
  {
   "cell_type": "markdown",
   "metadata": {},
   "source": [
    "<h4 style=\"color:red\">Basic Equations</h4>"
   ]
  },
  {
   "cell_type": "markdown",
   "metadata": {},
   "source": [
    "- <b style=\"color:blue\">Policy</b>\n",
    " \n",
    "$policy = \\pi(a|s)$\n",
    "\n",
    "- <b style=\"color:blue\">State Value</b>\n",
    "  \n",
    "$v(s) = \\sum_a\\pi(a|s)q_\\pi(a,\\hat{s})$\n",
    " \n",
    "- <b style=\"color:blue\">Action Value</b>\n",
    " \n",
    "$q_\\pi(a,s) = \\sum_\\hat{s}\\sum_r(p(\\hat{s},r|s,a) * (r + \\gamma*v(\\hat{s}))$\n",
    "\n",
    "- <b style=\"color:blue\">Combining above equations in 1 continous equation</b>\n",
    " \n",
    "$q_\\pi(a,s) = \\sum_a\\pi(a|s)(\\sum_\\hat{s}\\sum_r[p(\\hat{s},r|s,a) * (r + \\gamma*v(\\hat{s})])$"
   ]
  },
  {
   "cell_type": "markdown",
   "metadata": {},
   "source": [
    "<h4 style=\"color:red\">Current Problem Statement</h4>\n",
    "\n",
    "- <b style=\"color:blue\">Objective</b>\n",
    "\n",
    " - Find the best path to reach the **GOAL**.\n",
    " - And doing so, it needs to also avoid the **OBSTABLES** which are (**TREE & MAN**) in the path to the goal.\n",
    "\n",
    "- <b style=\"color:blue\">State</b>\n",
    " \n",
    " - The state's are defined by location on the board. Location are marked `[0,0]` being `top-left` and similarly `[3,3]` being `bottom-right`\n",
    "\n",
    "- <b style=\"color:blue\">Action</b>\n",
    " \n",
    " - When in a particular state, the agent can take one of these actions `[\"RIGHT\", \"LEFT\", \"UP\", \"DOWN\"]`. Inline with **MARKOV PRINCIPLE**, next state is dependent on the current state and the action taken in that state.\n",
    "\n",
    "- <b style=\"color:blue\">Reward Structure</b>\n",
    "\n",
    " - An Agent gets **-1 reward** for every step it takes\n",
    " \n",
    " - If by taking an action, the agent hits an OBSTABLE, then the **reward is -10**\n",
    " \n",
    " - If by taking an action, agent falls out of the board, it get a **-1 reward**, however, remains as the same state.\n",
    " \n",
    " - If by taking an action, agent reaches the GOAL, then the **reward is +10**.\n",
    " "
   ]
  },
  {
   "cell_type": "code",
   "execution_count": 1,
   "metadata": {},
   "outputs": [
    {
     "data": {
      "text/plain": [
       "'\\n!wget <Environment File>\\n!wget <policyiteration File>\\n!wget <valueiteration File>\\n'"
      ]
     },
     "execution_count": 1,
     "metadata": {},
     "output_type": "execute_result"
    }
   ],
   "source": [
    "### Area where we download the required files from gdrive ####\n",
    "### Uncomment the below code to download source library files ####\n",
    "'''\n",
    "!wget https://raw.githubusercontent.com/Machine-Learning-Tokyo/Reinforcement_Learning/master/session%20%231/maze_walker_rl_code/environment.py\n",
    "!wget https://raw.githubusercontent.com/Machine-Learning-Tokyo/Reinforcement_Learning/master/session%20%231/maze_walker_rl_code/policyIteration.py\n",
    "!wget https://raw.githubusercontent.com/Machine-Learning-Tokyo/Reinforcement_Learning/master/session%20%231/maze_walker_rl_code/valueIteration.py\n",
    "'''"
   ]
  },
  {
   "cell_type": "code",
   "execution_count": 9,
   "metadata": {},
   "outputs": [
    {
     "data": {
      "image/png": "[encoded data removed]",
      "text/plain": [
       "<matplotlib.figure.Figure at 0xf92a971390>"
      ]
     },
     "metadata": {
      "needs_background": "light"
     },
     "output_type": "display_data"
    },
    {
     "data": {
      "text/plain": [
       "None"
      ]
     },
     "metadata": {},
     "output_type": "display_data"
    }
   ],
   "source": [
    "from environment import *\n",
    "env = Env()\n",
    "env.draw_board(env.state_value,env.policy)"
   ]
  },
  {
   "cell_type": "markdown",
   "metadata": {},
   "source": [
    "<h4 style=\"color:red\">What can be inferred from the problem statement</h4>\n",
    "\n",
    "- <b style=\"color:blue\">RL TASK</b>\n",
    " \n",
    " - **EPISODIC** : It is clear from the description above that it is an episodic task, which would end when the agent is able to reach the **GOAL**\n",
    " \n",
    "- <b style=\"color:blue\">POLICY TYPE </b>\n",
    "\n",
    " - **DETERMINISTIC** : As we know policy is explained as $\\pi(a | s)$, this means the probability of taking an action when in a particular state. Also we know there are only 4 possible actions. As shown above, for `[0,0]` the default policy is `DOWN`, therefore,\n",
    " \n",
    "   $\\pi(a = \"Down\" |  s = [0,0]) = 1.0$\n",
    "   \n",
    "   $\\pi(a = \"Right\" |  s = [0,0]) = 0.0$\n",
    "   \n",
    "   $\\pi(a = \"Left\" |  s = [0,0]) = 0.0$\n",
    "   \n",
    "   $\\pi(a = \"Up\" |  s = [0,0]) = 0.0$\n",
    "   \n",
    "- <b style=\"color:blue\">RL Modeling Algorithm</b>\n",
    "  \n",
    " - **Model Based methods** : There are some limited number of `STATES`, `ACTION` and `REWARD` structure that we see with this problem statement. So we can use simple **Model Based Methods** to build a **MAZE WALKER**\n",
    " \n",
    "   \n",
    "- <b style=\"color:blue\">Note</b>\n",
    "  \n",
    " - Please note, the above is a starting state values we selected (that is same value 0 for all states) and a random selection of action at each state described in the policy - **ARBITARY POLICY**"
   ]
  },
  {
   "cell_type": "markdown",
   "metadata": {},
   "source": [
    "<h4 style=\"color:red\">Exploring the environment</h4>\n",
    "\n",
    "- Object variables available\n",
    " - `policy` = The current policy being followed\n",
    " - `state_value` = The current state values\n",
    "\n",
    "\n",
    "- Functions available\n",
    " - `draw_policy(policy)`\n",
    "   - Shows the current policy in a text format\n",
    "   - `return None`\n",
    "  \n",
    " - `draw_state_value(state_value)`\n",
    "   - Shows the current state values in a text format \n",
    "   - `return None`\n",
    "   \n",
    " - `draw_board(state_value,policy)`\n",
    "   - Display the board in the manner seen above\n",
    "   - `return None`\n",
    " \n",
    " - `get_next_state_and_reward(state,action)`\n",
    "   - Based on the state and action given, provides the next_state and reward\n",
    "   - `return next_state, reward`"
   ]
  },
  {
   "cell_type": "code",
   "execution_count": 4,
   "metadata": {},
   "outputs": [
    {
     "data": {
      "text/plain": [
       "array([['UP', 'RIGHT', 'LEFT', 'UP'],\n",
       "       ['RIGHT', 'UP', 'LEFT', 'TREE'],\n",
       "       ['DOWN', 'MAN', 'RIGHT', 'UP'],\n",
       "       ['RIGHT', 'RIGHT', 'UP', 'GOAL']], dtype='<U5')"
      ]
     },
     "execution_count": 4,
     "metadata": {},
     "output_type": "execute_result"
    }
   ],
   "source": [
    "env.policy"
   ]
  },
  {
   "cell_type": "code",
   "execution_count": 5,
   "metadata": {},
   "outputs": [
    {
     "data": {
      "text/plain": [
       "array([[0., 0., 0., 0.],\n",
       "       [0., 0., 0., 0.],\n",
       "       [0., 0., 0., 0.],\n",
       "       [0., 0., 0., 0.]])"
      ]
     },
     "execution_count": 5,
     "metadata": {},
     "output_type": "execute_result"
    }
   ],
   "source": [
    "env.state_value"
   ]
  },
  {
   "cell_type": "code",
   "execution_count": 6,
   "metadata": {},
   "outputs": [
    {
     "name": "stdout",
     "output_type": "stream",
     "text": [
      "[['UP' 'RIGHT' 'LEFT' 'UP']\n",
      " ['RIGHT' 'UP' 'LEFT' 'TREE']\n",
      " ['DOWN' 'MAN' 'RIGHT' 'UP']\n",
      " ['RIGHT' 'RIGHT' 'UP' 'GOAL']]\n"
     ]
    }
   ],
   "source": [
    "env.draw_policy(env.policy)"
   ]
  },
  {
   "cell_type": "code",
   "execution_count": 7,
   "metadata": {},
   "outputs": [
    {
     "name": "stdout",
     "output_type": "stream",
     "text": [
      "[[0. 0. 0. 0.]\n",
      " [0. 0. 0. 0.]\n",
      " [0. 0. 0. 0.]\n",
      " [0. 0. 0. 0.]]\n"
     ]
    }
   ],
   "source": [
    "env.draw_state_value(env.state_value)"
   ]
  },
  {
   "cell_type": "code",
   "execution_count": 10,
   "metadata": {},
   "outputs": [
    {
     "data": {
      "text/plain": [
       "((0, 0), -1)"
      ]
     },
     "execution_count": 10,
     "metadata": {},
     "output_type": "execute_result"
    }
   ],
   "source": [
    "env.get_next_state_and_reward([1,0], \"UP\")"
   ]
  }
 ],
 "metadata": {
  "kernelspec": {
   "display_name": "Python 3",
   "language": "python",
   "name": "python3"
  },
  "language_info": {
   "codemirror_mode": {
    "name": "ipython",
    "version": 3
   },
   "file_extension": ".py",
   "mimetype": "text/x-python",
   "name": "python",
   "nbconvert_exporter": "python",
   "pygments_lexer": "ipython3",
   "version": "3.6.0"
  }
 },
 "nbformat": 4,
 "nbformat_minor": 2
}
